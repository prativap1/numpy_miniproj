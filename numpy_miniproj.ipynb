{
  "nbformat": 4,
  "nbformat_minor": 0,
  "metadata": {
    "colab": {
      "name": "numpy_miniproj",
      "provenance": [],
      "collapsed_sections": []
    },
    "kernelspec": {
      "name": "python3",
      "display_name": "Python 3"
    },
    "language_info": {
      "name": "python"
    }
  },
  "cells": [
    {
      "cell_type": "code",
      "execution_count": 8,
      "metadata": {
        "id": "_h1SciI6WTlE"
      },
      "outputs": [],
      "source": [
        "import numpy as np\n"
      ]
    },
    {
      "cell_type": "markdown",
      "source": [
        "# Step 1 : Read The Data"
      ],
      "metadata": {
        "id": "lDqXUyRm4NOk"
      }
    },
    {
      "cell_type": "code",
      "source": [
        "path_file = \"/content/makeSenseOfCensus.csv\"\n",
        "\n",
        "#Loading the data\n",
        "data = np.genfromtxt(path_file, delimiter=\",\",skip_header=1)\n",
        "\n",
        "\n",
        "\n",
        "print(\"\\nData\\n\\n\",data)\n"
      ],
      "metadata": {
        "colab": {
          "base_uri": "https://localhost:8080/"
        },
        "id": "l7Kxr1dHW0UN",
        "outputId": "63b8b490-8155-4e3d-c626-c17b4da560e1"
      },
      "execution_count": 18,
      "outputs": [
        {
          "output_type": "stream",
          "name": "stdout",
          "text": [
            "\n",
            "Data\n",
            "\n",
            " [[39. 13.  4. ...  0. 40.  0.]\n",
            " [50. 13.  4. ...  0. 13.  0.]\n",
            " [38.  9.  4. ...  0. 40.  0.]\n",
            " ...\n",
            " [48. 13.  4. ...  0. 58.  1.]\n",
            " [40. 10.  4. ...  0. 40.  0.]\n",
            " [39. 13.  4. ...  0. 50.  1.]]\n"
          ]
        }
      ]
    },
    {
      "cell_type": "markdown",
      "source": [
        "**printing the type of data**"
      ],
      "metadata": {
        "id": "9_ZoZATlehQH"
      }
    },
    {
      "cell_type": "code",
      "source": [
        "print(type(data))"
      ],
      "metadata": {
        "colab": {
          "base_uri": "https://localhost:8080/"
        },
        "id": "YH07VjPoYzSS",
        "outputId": "dcb345f1-6cae-4d4f-8a22-cdc6736b7819"
      },
      "execution_count": 19,
      "outputs": [
        {
          "output_type": "stream",
          "name": "stdout",
          "text": [
            "<class 'numpy.ndarray'>\n"
          ]
        }
      ]
    },
    {
      "cell_type": "markdown",
      "source": [
        "# Step 2: Append the Data"
      ],
      "metadata": {
        "id": "_zPQq35ePYzj"
      }
    },
    {
      "cell_type": "code",
      "source": [
        "new_record=[[50, 9, 4, 1, 0, 0, 40, 0]]\n",
        "df=np.concatenate((data,new_record))"
      ],
      "metadata": {
        "id": "4Vt5ZJ34ZBkP"
      },
      "execution_count": 20,
      "outputs": []
    },
    {
      "cell_type": "code",
      "source": [
        "df"
      ],
      "metadata": {
        "colab": {
          "base_uri": "https://localhost:8080/"
        },
        "id": "GGkAJgB6aEId",
        "outputId": "0c60a32a-66fe-4013-9f1c-c64ee574235f"
      },
      "execution_count": 25,
      "outputs": [
        {
          "output_type": "execute_result",
          "data": {
            "text/plain": [
              "array([[39., 13.,  4., ...,  0., 40.,  0.],\n",
              "       [50., 13.,  4., ...,  0., 13.,  0.],\n",
              "       [38.,  9.,  4., ...,  0., 40.,  0.],\n",
              "       ...,\n",
              "       [40., 10.,  4., ...,  0., 40.,  0.],\n",
              "       [39., 13.,  4., ...,  0., 50.,  1.],\n",
              "       [50.,  9.,  4., ...,  0., 40.,  0.]])"
            ]
          },
          "metadata": {},
          "execution_count": 25
        }
      ]
    },
    {
      "cell_type": "markdown",
      "source": [
        "\n",
        "data[rows,columns]\n",
        "\n",
        ": ---> all\n",
        "\n"
      ],
      "metadata": {
        "id": "CJNx0aHma_qV"
      }
    },
    {
      "cell_type": "markdown",
      "source": [
        "# Step 3: Check if it's a young country or old country"
      ],
      "metadata": {
        "id": "QxkSLHgd4oR7"
      }
    },
    {
      "cell_type": "markdown",
      "source": [
        "**a new array called 'age' by taking only age column(age is the column with index 0) of 'census' array**."
      ],
      "metadata": {
        "id": "WksdEp054nTR"
      }
    },
    {
      "cell_type": "code",
      "source": [
        "age=df[:,0]\n",
        "print(\"Age\",age)"
      ],
      "metadata": {
        "colab": {
          "base_uri": "https://localhost:8080/"
        },
        "id": "QIUs6DX4WuRg",
        "outputId": "1fbfabc5-1e10-4edd-e229-93312106fd38"
      },
      "execution_count": 32,
      "outputs": [
        {
          "output_type": "stream",
          "name": "stdout",
          "text": [
            "Age [39. 50. 38. ... 40. 39. 50.]\n"
          ]
        }
      ]
    },
    {
      "cell_type": "markdown",
      "source": [
        "**Find the max age and store it in a variable called 'max_age.'**"
      ],
      "metadata": {
        "id": "lgoINi5pXet6"
      }
    },
    {
      "cell_type": "code",
      "source": [
        "max_age=age.max()\n",
        "print(\"Maximum age:\",max_age)"
      ],
      "metadata": {
        "colab": {
          "base_uri": "https://localhost:8080/"
        },
        "id": "WE76418EdmWW",
        "outputId": "e580bda0-b1f4-4a3e-cbff-c63cf8ffb554"
      },
      "execution_count": 34,
      "outputs": [
        {
          "output_type": "stream",
          "name": "stdout",
          "text": [
            "Maximum age: 90.0\n"
          ]
        }
      ]
    },
    {
      "cell_type": "markdown",
      "source": [
        "**Find the min age and store it in a variable called 'min_age'.**"
      ],
      "metadata": {
        "id": "1OWbjod_XwGN"
      }
    },
    {
      "cell_type": "code",
      "source": [
        "min_age=age.min()\n",
        "print(min_age)\n"
      ],
      "metadata": {
        "colab": {
          "base_uri": "https://localhost:8080/"
        },
        "id": "kdDXcICmeD9U",
        "outputId": "dd4389d6-e995-4981-fc2d-77a02c9d7bd0"
      },
      "execution_count": 24,
      "outputs": [
        {
          "output_type": "stream",
          "name": "stdout",
          "text": [
            "17.0\n"
          ]
        }
      ]
    },
    {
      "cell_type": "markdown",
      "source": [
        "**Find the mean of the age and store it in a variable called 'age_mean'.**"
      ],
      "metadata": {
        "id": "GIE8CWs-Xzh3"
      }
    },
    {
      "cell_type": "code",
      "source": [
        "age_mean= age.mean()\n",
        "print(age_mean)"
      ],
      "metadata": {
        "colab": {
          "base_uri": "https://localhost:8080/"
        },
        "id": "-BGemkAjik8V",
        "outputId": "0642f967-484b-4821-9c19-43588f2b1057"
      },
      "execution_count": 33,
      "outputs": [
        {
          "output_type": "stream",
          "name": "stdout",
          "text": [
            "38.06293706293706\n"
          ]
        }
      ]
    },
    {
      "cell_type": "markdown",
      "source": [
        "**Find the standard deviation of the age and store it in a variable called 'age_std'**"
      ],
      "metadata": {
        "id": "6AsS6FBGX8lC"
      }
    },
    {
      "cell_type": "code",
      "source": [
        "age_std=np.std(age)\n",
        "print(age_std)"
      ],
      "metadata": {
        "colab": {
          "base_uri": "https://localhost:8080/"
        },
        "id": "9KKhk4DqjrTf",
        "outputId": "f93257cf-618f-4806-cfb8-a0c5b00afe9f"
      },
      "execution_count": 31,
      "outputs": [
        {
          "output_type": "stream",
          "name": "stdout",
          "text": [
            "13.341478176165857\n"
          ]
        }
      ]
    },
    {
      "cell_type": "markdown",
      "source": [
        "# Step 4: Let's check the country's race distribution to identify the minorities"
      ],
      "metadata": {
        "id": "VG4nFGbKYIb3"
      }
    },
    {
      "cell_type": "markdown",
      "source": [
        "**Create four different arrays by subsetting 'census' array by Race column(Race is the column with index 2) and save them in 'race_0','race_1', 'race_2', 'race_3' and 'race_4' respectively(Meaning: Store the array where 'race'column has value 0 in 'race_0', so on and so forth)**"
      ],
      "metadata": {
        "id": "PjvlHj3xZRoB"
      }
    },
    {
      "cell_type": "code",
      "source": [
        "\n",
        "race_0= df[df[:,2]==0]\n",
        "print(race_0)"
      ],
      "metadata": {
        "colab": {
          "base_uri": "https://localhost:8080/"
        },
        "id": "qkjrVtv4kIsw",
        "outputId": "fcacfda2-8de4-40e5-84cc-f16bbab75b84"
      },
      "execution_count": 41,
      "outputs": [
        {
          "output_type": "stream",
          "name": "stdout",
          "text": [
            "[[34.  4.  0.  1.  0.  0. 45.  0.]\n",
            " [35. 10.  0.  0.  0.  0. 40.  0.]\n",
            " [60.  6.  0.  0.  0.  0. 10.  0.]\n",
            " [51.  9.  0.  1.  0.  0. 40.  0.]\n",
            " [25. 10.  0.  0.  0.  0. 20.  0.]\n",
            " [20.  9.  0.  1.  0.  0. 48.  0.]\n",
            " [23. 10.  0.  0.  0.  0. 25.  0.]\n",
            " [29.  9.  0.  1.  0.  0. 40.  0.]\n",
            " [27. 12.  0.  1.  0.  0. 40.  0.]\n",
            " [31. 12.  0.  0.  0.  0. 40.  0.]]\n"
          ]
        }
      ]
    },
    {
      "cell_type": "code",
      "source": [
        "race_1=df[df[:,2]==1]\n"
      ],
      "metadata": {
        "id": "W5pM0YHepHcl"
      },
      "execution_count": 42,
      "outputs": []
    },
    {
      "cell_type": "code",
      "source": [
        "race_2=df[df[:,2]==2]"
      ],
      "metadata": {
        "id": "qTMgBqNEpThX"
      },
      "execution_count": 43,
      "outputs": []
    },
    {
      "cell_type": "code",
      "source": [
        "race_3=df[df[:,2]==3]\n",
        "race_4=df[df[:,2]==4]"
      ],
      "metadata": {
        "id": "8WxHPGNwp5OC"
      },
      "execution_count": 44,
      "outputs": []
    },
    {
      "cell_type": "markdown",
      "source": [
        "**Store the length of the above created arrays in 'len_0', 'len_1','len_2', 'len_3' and 'len_4' respectively**"
      ],
      "metadata": {
        "id": "23Ji5gbvZZEZ"
      }
    },
    {
      "cell_type": "code",
      "source": [
        "len_0=len(race_0)\n",
        "len_1=len(race_1)\n",
        "len_2=len(race_2)\n",
        "len_3=len(race_3)\n",
        "len_4=len(race_4)\n"
      ],
      "metadata": {
        "id": "DTMBniHgqBcZ"
      },
      "execution_count": 45,
      "outputs": []
    },
    {
      "cell_type": "code",
      "source": [
        ""
      ],
      "metadata": {
        "id": "S_R4tsVw0vRr"
      },
      "execution_count": 57,
      "outputs": []
    },
    {
      "cell_type": "markdown",
      "source": [
        "**Find out which is the race with the minimum no. of citizens**"
      ],
      "metadata": {
        "id": "5UEHgTJaZpr8"
      }
    },
    {
      "cell_type": "code",
      "source": [
        "min_citizen=min(len_0,len_1,len_2,len_3,len_4)\n",
        "print(min_citizen)"
      ],
      "metadata": {
        "colab": {
          "base_uri": "https://localhost:8080/"
        },
        "id": "c1mYecGWqW2y",
        "outputId": "4fa98f7a-90fc-4327-9329-2c63bf800061"
      },
      "execution_count": 46,
      "outputs": [
        {
          "output_type": "stream",
          "name": "stdout",
          "text": [
            "6\n"
          ]
        }
      ]
    },
    {
      "cell_type": "code",
      "source": [
        "if min_citizen==len_0:\n",
        "  print(\" {} has minimum citizen= {} \".format(\"race_0\",len_0))\n",
        "elif min_citizen==len_1:\n",
        "  print(\" {} has minimum citizen= {} \".format(\"race_1\",len_1))\n",
        "elif min_citizen==len_2:\n",
        "  print(\" {} has minimum citizen= {}\".format(\"race_2\",len_2))\n",
        "elif min_citizen==len_3:\n",
        "  print(\" {} has minimum citizen= {}\".format(\"race_3\",len_3))\n",
        "else:\n",
        "  print(\" {} has minimum citizen= {}\".format(\"race_4\",len_4))\n",
        "\n"
      ],
      "metadata": {
        "colab": {
          "base_uri": "https://localhost:8080/"
        },
        "id": "FEhIYv9b0_Qo",
        "outputId": "27c661f0-0e44-437e-f31b-8bcd1dcb28d8"
      },
      "execution_count": 47,
      "outputs": [
        {
          "output_type": "stream",
          "name": "stdout",
          "text": [
            " race_3 has minimum citizen= 6\n"
          ]
        }
      ]
    },
    {
      "cell_type": "markdown",
      "source": [
        "**Store the number associated with the minority race in a variable called 'minority_race'(For eg: if \"len(race_5)\" is the minimum, store 5 in 'minority_race' because that is the index of the race having the least no. of citizens )**\n",
        "\n"
      ],
      "metadata": {
        "id": "aPIofpR0aeWm"
      }
    },
    {
      "cell_type": "code",
      "source": [
        "if min_citizen==len_0:\n",
        "  minority_race=0\n",
        "  \n",
        "elif min_citizen==len_1:\n",
        "  minority_race=1\n",
        "elif min_citizen==len_2:\n",
        "  minority_race=2\n",
        "elif min_citizen==len_3:\n",
        "  minority_race=3\n",
        "else:\n",
        "  minority_race=4\n",
        "\n",
        "print(\"Minority Race= \",minority_race)"
      ],
      "metadata": {
        "colab": {
          "base_uri": "https://localhost:8080/"
        },
        "id": "M0dkidkZ3XoE",
        "outputId": "cb31921e-d578-4406-c393-c0cfdcf855db"
      },
      "execution_count": 64,
      "outputs": [
        {
          "output_type": "stream",
          "name": "stdout",
          "text": [
            "Minority Race=  3\n"
          ]
        }
      ]
    },
    {
      "cell_type": "code",
      "source": [
        ""
      ],
      "metadata": {
        "id": "0Ox0XZpA3Far"
      },
      "execution_count": 50,
      "outputs": []
    },
    {
      "cell_type": "markdown",
      "source": [
        "# Step 5: As per govt. records citizens above 60 should not work more than 25 hours a week. Let us check if the policy is in place"
      ],
      "metadata": {
        "id": "mOKsL6S0auXL"
      }
    },
    {
      "cell_type": "markdown",
      "source": [
        "**Create a new subset array called 'senior_citizens' by filtering 'census' according to age>60 (age is the column with index 0)**\n"
      ],
      "metadata": {
        "id": "psjz3Sora2ae"
      }
    },
    {
      "cell_type": "code",
      "source": [
        "senior_citizens=df[df[:,0]>60]"
      ],
      "metadata": {
        "id": "s1Kk75nS5K1R"
      },
      "execution_count": 57,
      "outputs": []
    },
    {
      "cell_type": "markdown",
      "source": [
        "**Add all the working hours(working hours is the column with index 6) of 'senior_citizens' and store it in a variable called 'working_hours_sum'**\n"
      ],
      "metadata": {
        "id": "tyQT-tZubvZV"
      }
    },
    {
      "cell_type": "code",
      "source": [
        "working_hours_sum=sum(senior_citizens[:,6])\n",
        "working_hours_sum"
      ],
      "metadata": {
        "colab": {
          "base_uri": "https://localhost:8080/"
        },
        "id": "tSN8Vfqgbfvs",
        "outputId": "3d14ace3-73b7-43c9-ffcd-05a6511f68fc"
      },
      "execution_count": 54,
      "outputs": [
        {
          "output_type": "execute_result",
          "data": {
            "text/plain": [
              "1917.0"
            ]
          },
          "metadata": {},
          "execution_count": 54
        }
      ]
    },
    {
      "cell_type": "markdown",
      "source": [
        "**Find the length of 'senior_citizens' and store it in a variable called 'senior_citizens_len'**"
      ],
      "metadata": {
        "id": "gSZxPO3Jb-ur"
      }
    },
    {
      "cell_type": "code",
      "source": [
        "senior_citizens_len=len(senior_citizens)"
      ],
      "metadata": {
        "id": "PCcSPdU86ti3"
      },
      "execution_count": 70,
      "outputs": []
    },
    {
      "cell_type": "markdown",
      "source": [
        "**Finally find the average working hours of the senior citizens by dividing 'working_hours_sum' by 'senior_citizens_len' and store it in a variable called 'avg_working hours'.**\n"
      ],
      "metadata": {
        "id": "_Hif1eICcL7D"
      }
    },
    {
      "cell_type": "code",
      "source": [
        "avg_workinghours=working_hours_sum/senior_citizens_len\n",
        "print(avg_workinghours)"
      ],
      "metadata": {
        "colab": {
          "base_uri": "https://localhost:8080/"
        },
        "id": "IsHORIjy6W8d",
        "outputId": "e8677488-375c-4584-da42-11b7f64e67a2"
      },
      "execution_count": 72,
      "outputs": [
        {
          "output_type": "stream",
          "name": "stdout",
          "text": [
            "31.42622950819672\n"
          ]
        }
      ]
    },
    {
      "cell_type": "markdown",
      "source": [
        "**Print 'avg_working_hours' and see if the govt. policy is followed.**"
      ],
      "metadata": {
        "id": "5kVGuW9qcbAH"
      }
    },
    {
      "cell_type": "code",
      "source": [
        "if avg_workinghours>25:\n",
        "  print(\"Government policy is not followed\")\n",
        "else:\n",
        "  print(\"Government policy is followed\")"
      ],
      "metadata": {
        "colab": {
          "base_uri": "https://localhost:8080/"
        },
        "id": "BYVFfaa37kKT",
        "outputId": "ede47f96-cab0-4569-bd28-1878f1c86f46"
      },
      "execution_count": 73,
      "outputs": [
        {
          "output_type": "stream",
          "name": "stdout",
          "text": [
            "Government policy is not followed\n"
          ]
        }
      ]
    },
    {
      "cell_type": "markdown",
      "source": [
        "# Step 6: Let's check that higher educated people have better pay in general."
      ],
      "metadata": {
        "id": "fMVNxbOyci9Y"
      }
    },
    {
      "cell_type": "markdown",
      "source": [
        "**Create two new subset arrays called 'high' and 'low' by filtering 'census' according to education-num>10 and education-num<=10 (education-num is the column with index 1) respectively.**\n"
      ],
      "metadata": {
        "id": "pIRbb5qrdFHh"
      }
    },
    {
      "cell_type": "code",
      "source": [
        "high=df[df[:,1]>10]\n",
        "low=df[df[:,1]<=10]"
      ],
      "metadata": {
        "id": "-mLXG9DT8UZl"
      },
      "execution_count": 55,
      "outputs": []
    },
    {
      "cell_type": "markdown",
      "source": [
        "**Find the mean of income column(income is the column with index 7) of 'high' array and store it in 'avg_pay_high'. Do the same for 'low' array and store it's mean in 'avg_pay_low'.**\n"
      ],
      "metadata": {
        "id": "gdMzqO5qc2LL"
      }
    },
    {
      "cell_type": "code",
      "source": [
        "avg_pay_high=high[:,7].mean()\n",
        "print(\"Average pay of higher educated citizen is : \",avg_pay_high)"
      ],
      "metadata": {
        "colab": {
          "base_uri": "https://localhost:8080/"
        },
        "id": "K6TkkZNx9RmJ",
        "outputId": "f80d563f-c5af-4128-8afa-f47d4373c5f4"
      },
      "execution_count": 81,
      "outputs": [
        {
          "output_type": "stream",
          "name": "stdout",
          "text": [
            "Average pay of higher educated cittizen is :  0.42813455657492355\n"
          ]
        }
      ]
    },
    {
      "cell_type": "code",
      "source": [
        "avg_pay_low=low[:,7].mean()\n",
        "print(\"Average pay of less Educated Citizen is : \",avg_pay_low)"
      ],
      "metadata": {
        "colab": {
          "base_uri": "https://localhost:8080/"
        },
        "id": "ZwCZMlNm-PR2",
        "outputId": "b39f55c9-0fef-45a7-9d89-d1b76686ac15"
      },
      "execution_count": 56,
      "outputs": [
        {
          "output_type": "stream",
          "name": "stdout",
          "text": [
            "Average pay of less Educated Citizen is :  0.13649851632047477\n"
          ]
        }
      ]
    }
  ]
}